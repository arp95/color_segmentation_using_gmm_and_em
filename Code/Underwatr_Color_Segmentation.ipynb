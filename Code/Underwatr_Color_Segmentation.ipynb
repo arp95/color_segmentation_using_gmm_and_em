{
 "cells": [
  {
   "cell_type": "code",
   "execution_count": 4,
   "metadata": {},
   "outputs": [],
   "source": [
    "import cv2\n",
    "import numpy as np\n",
    "import matplotlib.pyplot as plt\n",
    "import scipy\n",
    "%matplotlib inline"
   ]
  },
  {
   "cell_type": "code",
   "execution_count": 5,
   "metadata": {},
   "outputs": [
    {
     "data": {
      "text/plain": [
       "-1"
      ]
     },
     "execution_count": 5,
     "metadata": {},
     "output_type": "execute_result"
    }
   ],
   "source": [
    "path_to_image_buoy1 = '/home/arpitdec5/Desktop/color_segmentation_using_gmm_and_em/data/buoy1/train/buoy156.png'\n",
    "path_to_image_buoy2 = '/home/arpitdec5/Desktop/color_segmentation_using_gmm_and_em/data/buoy2/train/buoy108.png'\n",
    "path_to_image_buoy3 = '/home/arpitdec5/Desktop/color_segmentation_using_gmm_and_em/data/buoy3/train/buoy28.png'\n",
    "img1 = cv2.imread(path_to_image_buoy1)\n",
    "img2 = cv2.imread(path_to_image_buoy2)\n",
    "img3 = cv2.imread(path_to_image_buoy3)\n",
    "cv2.imshow('img1',img1)\n",
    "\n",
    "cv2.waitKey(0)\n",
    "cv2.destroyAllWindows()\n",
    "cv2.waitKey(1)"
   ]
  },
  {
   "cell_type": "code",
   "execution_count": 6,
   "metadata": {},
   "outputs": [
    {
     "name": "stdout",
     "output_type": "stream",
     "text": [
      "mu:9.765625sigma:19.870275\n",
      "mu:9.765625sigma:26.297571\n",
      "mu:9.765625sigma:10.711766\n"
     ]
    },
    {
     "name": "stderr",
     "output_type": "stream",
     "text": [
      "/usr/local/lib/python2.7/dist-packages/matplotlib/cbook/deprecation.py:107: MatplotlibDeprecationWarning: Adding an axes using the same arguments as a previous axes currently reuses the earlier instance.  In a future version, a new instance will always be created and returned.  Meanwhile, this warning can be suppressed, and the future behavior ensured, by passing a unique label to each axes instance.\n",
      "  warnings.warn(message, mplDeprecation, stacklevel=1)\n"
     ]
    },
    {
     "data": {
      "image/png": "[encoded data removed]",
      "text/plain": [
       "<Figure size 432x288 with 2 Axes>"
      ]
     },
     "metadata": {
      "needs_background": "light"
     },
     "output_type": "display_data"
    }
   ],
   "source": [
    "# Compute the average colour histogram for each of the RGB Colour channels\n",
    "from scipy.stats import norm\n",
    "\n",
    "def fit_gaussian(image):\n",
    "    \n",
    "    color = ('b' , 'g' , 'r') # The number of color channels\n",
    "    \n",
    "    for i, col in enumerate(color):\n",
    "        \n",
    "        # Calculate the histogram for the Red Green and Blue color channel\n",
    "        # If input is grayscale the channels = [0] but for color image the channels can be [0], [1], [2]\n",
    "        histr = cv2.calcHist([image],[i],None,[256],[0,256])\n",
    "\n",
    "        (mu , sigma) = norm.fit(histr) # Maximum likelihood estimate\n",
    "        bins = np.linspace(0,255,256)\n",
    "        print(\"mu:\" + str(mu) + \"sigma:\" + str(sigma))\n",
    "        plt.subplot(1,2,1)\n",
    "        plt.plot(bins, norm.pdf(bins,mu,(sigma)),color=col); plt.xlim([0,256])\n",
    "        plt.subplot(1,2,2)\n",
    "        plt.plot(histr,color = col); plt.xlim([0,256])\n",
    "    plt.show()\n",
    "    \n",
    "fit_gaussian(img3)"
   ]
  },
  {
   "cell_type": "code",
   "execution_count": 84,
   "metadata": {},
   "outputs": [],
   "source": [
    "# initialise step of em algorithm\n",
    "def initialise_step(n, d, k):\n",
    "    weights_gaussian = np.zeros(k)\n",
    "    mean_gaussian = np.zeros((k, d))\n",
    "    covariance_matrix_gaussian = np.zeros((k, d, d))\n",
    "    probability_values = np.zeros((n, k))\n",
    "    \n",
    "    # randomly assign probability values\n",
    "    for index in range(0, n):\n",
    "        probability_values[index][np.random.randint(0, k)] = 1\n",
    "        \n",
    "    # return the arrays\n",
    "    return (weights_gaussian, mean_gaussian, covariance_matrix_gaussian, probability_values)\n",
    "\n",
    "\n",
    "# gaussian estimation for expectation step\n",
    "def gaussian_estimation(data_point, mean, covariance, dimension):\n",
    "    determinant_covariance = np.linalg.det(covariance)\n",
    "    determinant_covariance_root = np.sqrt(determinant_covariance)\n",
    "    covariance_inverse = np.linalg.inv(covariance)\n",
    "    gaussian_pi_coeff = 1.0 / np.power((2 * np.pi), (dimension / 2))\n",
    "    data_mean_diff = (data_point - mean)\n",
    "    data_mean_diff_transpose = data_mean_diff.T     \n",
    "    return (gaussian_pi_coeff) * (determinant_covariance_root) * np.exp(-0.5 * np.matmul(np.matmul(data_mean_diff, covariance_inverse), data_mean_diff_transpose))\n",
    "\n",
    "\n",
    "# e-step of the algorithm\n",
    "# reference: https://towardsdatascience.com/an-intuitive-guide-to-expected-maximation-em-algorithm-e1eb93648ce9\n",
    "def expectation_step(n, d, k, data, weights_gaussian, mean_gaussian, covariance_matrix_gaussian, probability_values):\n",
    "    probabilities = []\n",
    "    for j in range(0, n):\n",
    "        probability_x = 0.0\n",
    "        for i in range(0, k):\n",
    "            probability_x = probability_x + gaussian_estimation(data[j], mean_gaussian[i], covariance_matrix_gaussian[i] * weights_gaussian[i], d)\n",
    "        probability_x_temp=[]    \n",
    "        for i in range(k):\n",
    "            val = gaussian_estimation(data[j], mean_gaussian[i], covariance_matrix_gaussian[i] * weights_gaussian[i], d) / probability_x\n",
    "            probability_x_temp.append(val)\n",
    "        probabilities.append(probability_x_temp)\n",
    "    return np.array(probabilities)\n",
    "\n",
    "\n",
    "# update weights, maximization step\n",
    "def update_weights(probabilities, k):\n",
    "    probabilities = np.array(probabilities)\n",
    "    updated_weights = []\n",
    "    for i in range(0, k):\n",
    "        updated_weights.append(np.sum(probabilities[:, i]))\n",
    "    updated_weights = np.array(updated_weights)\n",
    "    return updated_weights / np.sum(updated_weights)\n",
    "\n",
    "\n",
    "# update mean, maximization step\n",
    "def update_mean(data, probabilities, k):\n",
    "    probabilities = np.array(probabilities)\n",
    "    data = np.array(data)\n",
    "    updated_weights = []\n",
    "    updated_mean = np.matmul(probabilities.T, data)\n",
    "    for i in range(0, k):\n",
    "        updated_weights.append(np.sum(probabilities[:, i]))\n",
    "        updated_mean[i] = updated_mean[i] / updated_weights[i]\n",
    "    return updated_mean\n",
    "\n",
    "# update covariance, maximization step\n",
    "def update_covariance(data, probabilities, mean_gaussian, k):\n",
    "    return data\n",
    "\n",
    "# m-step of the algorithm\n",
    "# reference: https://towardsdatascience.com/an-intuitive-guide-to-expected-maximation-em-algorithm-e1eb93648ce9\n",
    "def maximization_step(n, d, k, data, weights_gaussian, mean_gaussian, covariance_matrix_gaussian, probability_values):\n",
    "    u_weights = update_weights(probability_values, k)\n",
    "    u_mean_gaussian = update_mean(data, probabilities, k)\n",
    "    u_covariance_matrix_gaussian = update_covariance(data, probabilities, mean_gaussian, k)\n",
    "    return (u_weights, u_mean_gaussian, u_covariance_matrix_gaussian)\n",
    "\n",
    "# run e-m algorithm\n",
    "def run_expectation_maximization_algorithm(n, d, k, iterations, data):\n",
    "    # initialise step\n",
    "    (weights_gaussian, mean_gaussian, covariance_matrix_gaussian, probability_values) = initialise_step(n, d, k)\n",
    "    \n",
    "    # run for fixed iterations\n",
    "    for i in range(0, iterations):\n",
    "    \n",
    "        # m-step\n",
    "        (weights_gaussian, mean_gaussian, covariance_matrix_gaussian) = maximization_step(n, d, k, data, weights_gaussian, mean_gaussian, covariance_matrix_gaussian, probability_values)\n",
    "    \n",
    "        # e-step\n",
    "        probability_values = expectation_step(n, d, k, data, weights_gaussian, mean_gaussian, covariance_matrix_gaussian, probability_values)\n",
    "    \n",
    "    # return answer\n",
    "    return (weights_gaussian, mean_gaussian, covariance_matrix_gaussian)"
   ]
  },
  {
   "cell_type": "code",
   "execution_count": 30,
   "metadata": {},
   "outputs": [],
   "source": [
    "w, m, c, p = initialise_step(2, 2, 2)"
   ]
  },
  {
   "cell_type": "code",
   "execution_count": 82,
   "metadata": {},
   "outputs": [
    {
     "name": "stdout",
     "output_type": "stream",
     "text": [
      "4\n"
     ]
    }
   ],
   "source": [
    "s = np.array([[1, 2], [3, 3]])\n",
    "print(np.sum(s[:, 0]))"
   ]
  },
  {
   "cell_type": "code",
   "execution_count": 81,
   "metadata": {},
   "outputs": [
    {
     "name": "stdout",
     "output_type": "stream",
     "text": [
      "[[1 2]\n",
      " [3 3]]\n"
     ]
    }
   ],
   "source": [
    "print(s)"
   ]
  },
  {
   "cell_type": "code",
   "execution_count": null,
   "metadata": {},
   "outputs": [],
   "source": []
  }
 ],
 "metadata": {
  "kernelspec": {
   "display_name": "Python 3",
   "language": "python",
   "name": "python3"
  },
  "language_info": {
   "codemirror_mode": {
    "name": "ipython",
    "version": 2
   },
   "file_extension": ".py",
   "mimetype": "text/x-python",
   "name": "python",
   "nbconvert_exporter": "python",
   "pygments_lexer": "ipython2",
   "version": "2.7.12"
  }
 },
 "nbformat": 4,
 "nbformat_minor": 4
}
