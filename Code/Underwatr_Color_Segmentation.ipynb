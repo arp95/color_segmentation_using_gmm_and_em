{
 "cells": [
  {
   "cell_type": "code",
   "execution_count": 6,
   "metadata": {},
   "outputs": [],
   "source": [
    "import cv2\n",
    "import numpy as np\n",
    "import matplotlib.pyplot as plt\n",
    "import scipy\n",
    "%matplotlib inline"
   ]
  },
  {
   "cell_type": "code",
   "execution_count": 36,
   "metadata": {},
   "outputs": [
    {
     "data": {
      "text/plain": [
       "-1"
      ]
     },
     "execution_count": 36,
     "metadata": {},
     "output_type": "execute_result"
    }
   ],
   "source": [
    "path_to_image_buoy1 = 'C:\\\\Users\\\\shant\\\\Underwater_Color_Segmentation_GMM_EM_Algorithm\\\\data\\\\buoy1\\\\train\\\\buoy156.png'\n",
    "path_to_image_buoy2 = 'C:\\\\Users\\\\shant\\\\Underwater_Color_Segmentation_GMM_EM_Algorithm\\\\data\\\\buoy2\\\\train\\\\buoy108.png'\n",
    "path_to_image_buoy3 = 'C:\\\\Users\\\\shant\\\\Underwater_Color_Segmentation_GMM_EM_Algorithm\\\\data\\\\buoy3\\\\train\\\\buoy28.png'\n",
    "img1 = cv2.imread(path_to_image_buoy1)\n",
    "img2 = cv2.imread(path_to_image_buoy2)\n",
    "img3 = cv2.imread(path_to_image_buoy3)\n",
    "cv2.imshow('img1',img1)\n",
    "\n",
    "cv2.waitKey(0)\n",
    "cv2.destroyAllWindows()\n",
    "cv2.waitKey(1)"
   ]
  },
  {
   "cell_type": "code",
   "execution_count": 40,
   "metadata": {},
   "outputs": [
    {
     "name": "stdout",
     "output_type": "stream",
     "text": [
      "mu:9.765625 sigma:19.870275497436523\n",
      "mu:9.765625 sigma:26.297571182250977\n",
      "mu:9.765625 sigma:10.711766242980957\n"
     ]
    },
    {
     "name": "stderr",
     "output_type": "stream",
     "text": [
      "c:\\users\\shant\\anaconda3\\envs\\env\\lib\\site-packages\\ipykernel_launcher.py:17: MatplotlibDeprecationWarning: Adding an axes using the same arguments as a previous axes currently reuses the earlier instance.  In a future version, a new instance will always be created and returned.  Meanwhile, this warning can be suppressed, and the future behavior ensured, by passing a unique label to each axes instance.\n",
      "c:\\users\\shant\\anaconda3\\envs\\env\\lib\\site-packages\\ipykernel_launcher.py:19: MatplotlibDeprecationWarning: Adding an axes using the same arguments as a previous axes currently reuses the earlier instance.  In a future version, a new instance will always be created and returned.  Meanwhile, this warning can be suppressed, and the future behavior ensured, by passing a unique label to each axes instance.\n"
     ]
    },
    {
     "data": {
      "image/png": "[encoded data removed]",
      "text/plain": [
       "<Figure size 432x288 with 2 Axes>"
      ]
     },
     "metadata": {
      "needs_background": "light"
     },
     "output_type": "display_data"
    }
   ],
   "source": [
    "# Compute the average colour histogram for each of the RGB Colour channels\n",
    "from scipy.stats import norm\n",
    "\n",
    "def fit_gaussian(image):\n",
    "    \n",
    "    color = ('b' , 'g' , 'r') # The number of color channels\n",
    "    \n",
    "    for i, col in enumerate(color):\n",
    "        \n",
    "        # Calculate the histogram for the Red Green and Blue color channel\n",
    "        # If input is grayscale the channels = [0] but for color image the channels can be [0], [1], [2]\n",
    "        histr = cv2.calcHist([image],[i],None,[256],[0,256])\n",
    "\n",
    "        (mu , sigma) = norm.fit(histr) # Maximum likelihood estimate\n",
    "        bins = np.linspace(0,255,256)\n",
    "        print(f'mu:{mu} sigma:{sigma}')\n",
    "        plt.subplot(1,2,1)\n",
    "        plt.plot(bins, norm.pdf(bins,mu,(sigma)),color=col); plt.xlim([0,256])\n",
    "        plt.subplot(1,2,2)\n",
    "        plt.plot(histr,color = col); plt.xlim([0,256])\n",
    "    plt.show()\n",
    "    \n",
    "fit_gaussian(img3)"
   ]
  },
  {
   "cell_type": "code",
   "execution_count": null,
   "metadata": {},
   "outputs": [],
   "source": [
    "# Expectation Maximization Technique\n",
    "\n",
    "def gaussian(x, mean, covariance, dimension):\n",
    "    \n",
    "    determinant_covariance = np.linalg.det(covariance)\n",
    "    determinant_covariance_root = np.sqrt(determinant_covariance)\n",
    "    covariance_inverse = np.linalg.inv(covariance)\n",
    "    gaussian_pi_coeff = 1 / np.power((2*np.pi), (dimension/2))\n",
    "    data_mean_diff = (x - mean)\n",
    "    data_mean_diff_transpose = (x-mean).T\n",
    "    \n",
    "    return (gaussian_pi_coeff)*(determinant_covariance_root)*np.exp(-0.5*np.matmul(np.matmul(data_mean_diff_transpose,covariance_inverse),data_mean_diff))\n",
    "    \n",
    "def gaussian_expectation(mixture_coefficients, gaussian_mean, gaussian_covariance, dimension, k,input_data):\n",
    "    \n",
    "    \"X: The input samples to the gaussian mixture\"\n",
    "    \"mixture_coefficients: Used when there are several gaussians. Is basically the prior\"\n",
    "    \"gaussian_mean: mean of the gaussian distribution\"\n",
    "    \"gaussian_covariance: covariance matrix of the gaussian distribution\"\n",
    "    \"K: Number of clusters\"\n",
    "    \"data_probability: List to store the Probabilities of the ith Datapoint coming from the Kth Gaussian Distribution\"\n",
    "    \n",
    "    \n",
    "    \n",
    "def gaussian_maximization():\n",
    "    "
   ]
  }
 ],
 "metadata": {
  "kernelspec": {
   "display_name": "Python 3",
   "language": "python",
   "name": "python3"
  },
  "language_info": {
   "codemirror_mode": {
    "name": "ipython",
    "version": 3
   },
   "file_extension": ".py",
   "mimetype": "text/x-python",
   "name": "python",
   "nbconvert_exporter": "python",
   "pygments_lexer": "ipython3",
   "version": "3.6.10"
  }
 },
 "nbformat": 4,
 "nbformat_minor": 4
}
