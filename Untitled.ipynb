{
 "cells": [
  {
   "cell_type": "code",
   "execution_count": 1,
   "metadata": {},
   "outputs": [
    {
     "ename": "ModuleNotFoundError",
     "evalue": "No module named 'roipoly'",
     "output_type": "error",
     "traceback": [
      "\u001b[0;31m---------------------------------------------------------------------------\u001b[0m",
      "\u001b[0;31mModuleNotFoundError\u001b[0m                       Traceback (most recent call last)",
      "\u001b[0;32m<ipython-input-1-f1d395d8a54d>\u001b[0m in \u001b[0;36m<module>\u001b[0;34m\u001b[0m\n\u001b[1;32m      2\u001b[0m \u001b[0;32mfrom\u001b[0m \u001b[0mmatplotlib\u001b[0m \u001b[0;32mimport\u001b[0m \u001b[0mpyplot\u001b[0m \u001b[0;32mas\u001b[0m \u001b[0mplt\u001b[0m\u001b[0;34m\u001b[0m\u001b[0;34m\u001b[0m\u001b[0m\n\u001b[1;32m      3\u001b[0m \u001b[0;32mimport\u001b[0m \u001b[0mcv2\u001b[0m\u001b[0;34m\u001b[0m\u001b[0;34m\u001b[0m\u001b[0m\n\u001b[0;32m----> 4\u001b[0;31m \u001b[0;32mfrom\u001b[0m \u001b[0mroipoly\u001b[0m \u001b[0;32mimport\u001b[0m \u001b[0mroipoly\u001b[0m\u001b[0;34m\u001b[0m\u001b[0;34m\u001b[0m\u001b[0m\n\u001b[0m\u001b[1;32m      5\u001b[0m \u001b[0;32mimport\u001b[0m \u001b[0mpylab\u001b[0m \u001b[0;32mas\u001b[0m \u001b[0mpl\u001b[0m\u001b[0;34m\u001b[0m\u001b[0;34m\u001b[0m\u001b[0m\n",
      "\u001b[0;31mModuleNotFoundError\u001b[0m: No module named 'roipoly'"
     ]
    }
   ],
   "source": [
    "import numpy as np\n",
    "from matplotlib import pyplot as plt\n",
    "import cv2\n",
    "from roipoly import roipoly\n",
    "import pylab as pl"
   ]
  },
  {
   "cell_type": "code",
   "execution_count": 2,
   "metadata": {},
   "outputs": [
    {
     "ename": "NameError",
     "evalue": "name 'pl' is not defined",
     "output_type": "error",
     "traceback": [
      "\u001b[0;31m---------------------------------------------------------------------------\u001b[0m",
      "\u001b[0;31mNameError\u001b[0m                                 Traceback (most recent call last)",
      "\u001b[0;32m<ipython-input-2-45ef28c53253>\u001b[0m in \u001b[0;36m<module>\u001b[0;34m\u001b[0m\n\u001b[1;32m     12\u001b[0m         \u001b[0;31m# get current video frame\u001b[0m\u001b[0;34m\u001b[0m\u001b[0;34m\u001b[0m\u001b[0;34m\u001b[0m\u001b[0m\n\u001b[1;32m     13\u001b[0m         \u001b[0;31m# show the image\u001b[0m\u001b[0;34m\u001b[0m\u001b[0;34m\u001b[0m\u001b[0;34m\u001b[0m\u001b[0m\n\u001b[0;32m---> 14\u001b[0;31m         \u001b[0mpl\u001b[0m\u001b[0;34m.\u001b[0m\u001b[0mimshow\u001b[0m\u001b[0;34m(\u001b[0m\u001b[0mframe\u001b[0m\u001b[0;34m,\u001b[0m \u001b[0minterpolation\u001b[0m\u001b[0;34m=\u001b[0m\u001b[0;34m'nearest'\u001b[0m\u001b[0;34m,\u001b[0m \u001b[0mcmap\u001b[0m\u001b[0;34m=\u001b[0m\u001b[0;34m\"Greys\"\u001b[0m\u001b[0;34m)\u001b[0m\u001b[0;34m\u001b[0m\u001b[0;34m\u001b[0m\u001b[0m\n\u001b[0m\u001b[1;32m     15\u001b[0m         \u001b[0mpl\u001b[0m\u001b[0;34m.\u001b[0m\u001b[0mcolorbar\u001b[0m\u001b[0;34m(\u001b[0m\u001b[0;34m)\u001b[0m\u001b[0;34m\u001b[0m\u001b[0;34m\u001b[0m\u001b[0m\n\u001b[1;32m     16\u001b[0m         \u001b[0mpl\u001b[0m\u001b[0;34m.\u001b[0m\u001b[0mtitle\u001b[0m\u001b[0;34m(\u001b[0m\u001b[0;34m\"left click: line segment         right click: close region\"\u001b[0m\u001b[0;34m)\u001b[0m\u001b[0;34m\u001b[0m\u001b[0;34m\u001b[0m\u001b[0m\n",
      "\u001b[0;31mNameError\u001b[0m: name 'pl' is not defined"
     ]
    }
   ],
   "source": [
    "# set data path\n",
    "path_video = \"/home/arpitdec5/Desktop/color_segmentation_using_gmm_and_em/data/detectbuoy.avi\"\n",
    "\n",
    "# define constants\n",
    "cap = cv2.VideoCapture(path_video)\n",
    "\n",
    "# read video\n",
    "while(cap.isOpened()):\n",
    "    ret, frame = cap.read()\n",
    "    \n",
    "    if(ret):\n",
    "        # get current video frame\n",
    "        # show the image\n",
    "        pl.imshow(frame, interpolation='nearest', cmap=\"Greys\")\n",
    "        pl.colorbar()\n",
    "        pl.title(\"left click: line segment         right click: close region\")\n",
    "        \n",
    "        ROI1 = roipoly(roicolor='r')\n",
    "        \n",
    "        # show the image with the first ROI\n",
    "        pl.imshow(frame, interpolation='nearest', cmap=\"Greys\")\n",
    "        pl.colorbar()\n",
    "        ROI1.displayROI()\n",
    "        pl.title('draw second ROI')\n",
    "        break\n",
    "    else:\n",
    "        break\n",
    "cap.release()\n",
    "cv2.destroyAllWindows()"
   ]
  },
  {
   "cell_type": "code",
   "execution_count": 3,
   "metadata": {},
   "outputs": [],
   "source": [
    "import glob\n",
    "import cv2\n",
    "import numpy as np\n",
    "from matplotlib import pyplot as plt"
   ]
  },
  {
   "cell_type": "code",
   "execution_count": 4,
   "metadata": {},
   "outputs": [
    {
     "name": "stdout",
     "output_type": "stream",
     "text": [
      "['/home/arpitdec5/Desktop/color_segmentation_using_gmm_and_em/data/buoy3/test/buoy32.png', '/home/arpitdec5/Desktop/color_segmentation_using_gmm_and_em/data/buoy3/test/buoy41.png', '/home/arpitdec5/Desktop/color_segmentation_using_gmm_and_em/data/buoy3/test/buoy31.png', '/home/arpitdec5/Desktop/color_segmentation_using_gmm_and_em/data/buoy3/test/buoy39.png', '/home/arpitdec5/Desktop/color_segmentation_using_gmm_and_em/data/buoy3/test/buoy35.png', '/home/arpitdec5/Desktop/color_segmentation_using_gmm_and_em/data/buoy3/test/buoy34.png', '/home/arpitdec5/Desktop/color_segmentation_using_gmm_and_em/data/buoy3/test/buoy33.png', '/home/arpitdec5/Desktop/color_segmentation_using_gmm_and_em/data/buoy3/test/buoy37.png', '/home/arpitdec5/Desktop/color_segmentation_using_gmm_and_em/data/buoy3/test/buoy38.png', '/home/arpitdec5/Desktop/color_segmentation_using_gmm_and_em/data/buoy3/test/buoy28.png', '/home/arpitdec5/Desktop/color_segmentation_using_gmm_and_em/data/buoy3/test/buoy30.png', '/home/arpitdec5/Desktop/color_segmentation_using_gmm_and_em/data/buoy3/test/buoy29.png', '/home/arpitdec5/Desktop/color_segmentation_using_gmm_and_em/data/buoy3/test/buoy36.png', '/home/arpitdec5/Desktop/color_segmentation_using_gmm_and_em/data/buoy3/test/buoy40.png']\n"
     ]
    }
   ],
   "source": [
    "files = glob.glob(\"/home/arpitdec5/Desktop/color_segmentation_using_gmm_and_em/data/buoy3/test/*\")\n",
    "print(files)"
   ]
  },
  {
   "cell_type": "code",
   "execution_count": 5,
   "metadata": {},
   "outputs": [],
   "source": [
    "def plot_hist(image):\n",
    "    # loop over the image channels\n",
    "    chans = cv2.split(image)\n",
    "    colors = (\"b\", \"g\", \"r\")\n",
    "    features = []\n",
    "    for (chan, color) in zip(chans, colors):\n",
    "        hist = cv2.calcHist([chan], [0], None, [256], [0, 256])\n",
    "        hist = hist / hist.sum()\n",
    "        features.extend(hist)\n",
    "        plt.plot(hist, color = color)\n",
    "        plt.xlim([0, 256])"
   ]
  },
  {
   "cell_type": "code",
   "execution_count": 6,
   "metadata": {},
   "outputs": [
    {
     "data": {
      "image/png": "[encoded data removed]",
      "text/plain": [
       "<Figure size 432x288 with 1 Axes>"
      ]
     },
     "metadata": {
      "needs_background": "light"
     },
     "output_type": "display_data"
    }
   ],
   "source": [
    "count = 0\n",
    "for file in files:\n",
    "    image = cv2.imread(files[7])\n",
    "    plot_hist(image)\n",
    "    count = count + 1\n",
    "    \n",
    "    if(count > 0):\n",
    "        break"
   ]
  },
  {
   "cell_type": "code",
   "execution_count": null,
   "metadata": {},
   "outputs": [],
   "source": [
    "# initialise step of em algorithm\n",
    "def initialise(n, d, k):\n",
    "    weights_gaussian = np.zeros(k)\n",
    "    mean_gaussian = np.zeros(k, d)\n",
    "    covariance_matrix_gaussian = np.zeros(k, d, d)\n",
    "    probability_values = np.zeros(n, k)\n",
    "    \n",
    "    # randomly assign probability values\n",
    "    for index in range(0, n):\n",
    "        random_index = np.random.randint(0, k)\n",
    "        probability_values[index][random_index] = 1"
   ]
  }
 ],
 "metadata": {
  "kernelspec": {
   "display_name": "Python 3",
   "language": "python",
   "name": "python3"
  },
  "language_info": {
   "codemirror_mode": {
    "name": "ipython",
    "version": 3
   },
   "file_extension": ".py",
   "mimetype": "text/x-python",
   "name": "python",
   "nbconvert_exporter": "python",
   "pygments_lexer": "ipython3",
   "version": "3.7.4"
  }
 },
 "nbformat": 4,
 "nbformat_minor": 2
}
